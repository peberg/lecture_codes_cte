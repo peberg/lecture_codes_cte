{
 "cells": [
  {
   "cell_type": "markdown",
   "metadata": {},
   "source": [
    "# Numpy Intro"
   ]
  },
  {
   "cell_type": "markdown",
   "metadata": {},
   "source": [
    "Figures taken from L. Maximov's Numpy tutorial\n",
    "https://betterprogramming.pub/numpy-illustrated-the-visual-guide-to-numpy-3b1d4976de1d"
   ]
  },
  {
   "cell_type": "code",
   "execution_count": 1,
   "metadata": {},
   "outputs": [],
   "source": [
    "import numpy as np"
   ]
  },
  {
   "cell_type": "markdown",
   "metadata": {},
   "source": [
    "__________________________________________________________________\n",
    "## Array generation\n",
    "![image info](https://miro.medium.com/v2/resize:fit:1100/format:webp/1*cyN_FxUVbkdDyrULhfTIGw.png)\n",
    "\n",
    "[zeros](https://numpy.org/doc/stable/reference/generated/numpy.zeros.html)\n",
    "[zeros_like](https://numpy.org/doc/stable/reference/generated/numpy.zeros_like.html)\n",
    "\n",
    "[ones](https://numpy.org/doc/stable/reference/generated/numpy.ones.html)\n",
    "[ones_like](https://numpy.org/doc/stable/reference/generated/numpy.ones_like.html)"
   ]
  },
  {
   "cell_type": "code",
   "execution_count": 2,
   "metadata": {},
   "outputs": [
    {
     "data": {
      "text/plain": [
       "array([1, 1, 1])"
      ]
     },
     "execution_count": 2,
     "metadata": {},
     "output_type": "execute_result"
    }
   ],
   "source": [
    "a = np.array([1,2,3])\n",
    "np.ones_like(a)"
   ]
  },
  {
   "cell_type": "markdown",
   "metadata": {},
   "source": [
    "![image info](https://miro.medium.com/v2/resize:fit:1100/format:webp/1*NNCWBPDCPfLtNYDc_ul5SA.png)\n",
    "\n",
    "[arange](https://numpy.org/doc/stable/reference/generated/numpy.arange.html)\n",
    "[linspace](https://numpy.org/doc/stable/reference/generated/numpy.linspace.html)"
   ]
  },
  {
   "cell_type": "code",
   "execution_count": 3,
   "metadata": {},
   "outputs": [
    {
     "data": {
      "text/plain": [
       "array([0, 1, 2, 3, 4])"
      ]
     },
     "execution_count": 3,
     "metadata": {},
     "output_type": "execute_result"
    }
   ],
   "source": [
    "np.arange(5)"
   ]
  },
  {
   "cell_type": "markdown",
   "metadata": {},
   "source": [
    "__________________________________________________________________\n",
    "## Array math operations\n",
    "![image info](https://miro.medium.com/v2/resize:fit:1100/format:webp/1*RNfQubSwH_6-GnWHVjn9CQ.png)\n",
    "\n",
    "### Broadcasting\n",
    "![image info](https://miro.medium.com/v2/resize:fit:1100/format:webp/1*VyadDu7CyuF5-7rKVoFSrw.png)\n",
    "\n",
    "[built-in operators](https://docs.python.org/3/library/operator.html)"
   ]
  },
  {
   "cell_type": "code",
   "execution_count": 4,
   "metadata": {},
   "outputs": [
    {
     "data": {
      "text/plain": [
       "array([3, 4, 5])"
      ]
     },
     "execution_count": 4,
     "metadata": {},
     "output_type": "execute_result"
    }
   ],
   "source": [
    "a = np.arange(3)\n",
    "a + 3"
   ]
  },
  {
   "cell_type": "markdown",
   "metadata": {},
   "source": [
    "__________________________________________________________________\n",
    "## Math operations\n",
    "![image info](https://miro.medium.com/v2/resize:fit:1100/format:webp/1*Pc4t0jilbHSM0sMwtVNGIA.png)\n",
    "![image info](https://miro.medium.com/v2/resize:fit:1100/format:webp/1*wyHVvsoUdsHA0RedM6kdvQ.png)\n",
    "\n",
    "[sqrt](https://numpy.org/doc/stable/reference/generated/numpy.sqrt.html)\n",
    "[exp](https://numpy.org/doc/stable/reference/generated/numpy.exp.html)\n",
    "[log](https://numpy.org/doc/stable/reference/generated/numpy.log.html)\n",
    "\n",
    "[sin](https://numpy.org/doc/stable/reference/generated/numpy.sin.html)\n",
    "[cos](https://numpy.org/doc/stable/reference/generated/numpy.cos.html)\n",
    "[arctan2](https://numpy.org/doc/stable/reference/generated/numpy.arctan2.html)"
   ]
  },
  {
   "cell_type": "code",
   "execution_count": 17,
   "metadata": {},
   "outputs": [
    {
     "data": {
      "text/plain": [
       "array([ 0,  1,  4,  9, 16, 25])"
      ]
     },
     "execution_count": 17,
     "metadata": {},
     "output_type": "execute_result"
    }
   ],
   "source": [
    "a = np.arange(6)\n",
    "a**2"
   ]
  },
  {
   "attachments": {},
   "cell_type": "markdown",
   "metadata": {},
   "source": [
    "__________________________________________________________________\n",
    "## Indexing I\n",
    "![image info](https://miro.medium.com/v2/resize:fit:4800/format:webp/1*4xpufyWZWcIbabsOHVlc4g.png)"
   ]
  },
  {
   "cell_type": "code",
   "execution_count": 5,
   "metadata": {},
   "outputs": [
    {
     "data": {
      "text/plain": [
       "array([2, 5])"
      ]
     },
     "execution_count": 5,
     "metadata": {},
     "output_type": "execute_result"
    }
   ],
   "source": [
    "a = np.arange(1,6)\n",
    "a[[1,-1]]"
   ]
  },
  {
   "attachments": {},
   "cell_type": "markdown",
   "metadata": {},
   "source": [
    "### Boolean indexing\n",
    "\n",
    "![image info](https://miro.medium.com/v2/resize:fit:1100/format:webp/1*nFGcXav_xxD7TXGiRYMpHg.png)"
   ]
  },
  {
   "cell_type": "code",
   "execution_count": 8,
   "metadata": {},
   "outputs": [
    {
     "name": "stdout",
     "output_type": "stream",
     "text": [
      "[1 2 3 4 5 6 7 6 5 4 3 2 1]\n"
     ]
    },
    {
     "data": {
      "text/plain": [
       "array([False, False, False, False, False,  True,  True,  True, False,\n",
       "       False, False, False, False])"
      ]
     },
     "execution_count": 8,
     "metadata": {},
     "output_type": "execute_result"
    }
   ],
   "source": [
    "a = 7-np.abs(np.arange(13) - 6)\n",
    "print(a)\n",
    "a > 5"
   ]
  },
  {
   "cell_type": "code",
   "execution_count": 2,
   "metadata": {},
   "outputs": [
    {
     "data": {
      "text/plain": [
       "<matplotlib.legend.Legend at 0x7f9571833490>"
      ]
     },
     "execution_count": 2,
     "metadata": {},
     "output_type": "execute_result"
    },
    {
     "data": {
      "image/png": "[encoded data removed]",
      "text/plain": [
       "<Figure size 1200x400 with 2 Axes>"
      ]
     },
     "metadata": {},
     "output_type": "display_data"
    }
   ],
   "source": [
    "#Consider a single-cycle sine wave, u, in spatial coordinates as initial condition for a pressure field, \n",
    "#from which the first spatial derivative is to be computed by means of a finite-difference expression. \n",
    "#\n",
    "#a) Write a script that calculates and displays the derivative of u. \n",
    "#b) Compare the numerical solution with the analytical solution.\n",
    "\n",
    "import numpy as np\n",
    "from matplotlib import pyplot as plt\n",
    "#Basic parameters\n",
    "#---------------------------------------------------------------\n",
    "nx = 100      # number of grid points in x\n",
    "dx = 0.1     # grid point distance in m\n",
    "x_vec = np.arange(0, nx)*dx  # initialize space coordinates\n",
    "_lambda = 10.0  # wavelength, happens to be nx*dx\n",
    "k = 2*np.pi/_lambda  # wavenumber\n",
    "u = np.sin(k*x_vec)  #signal\n",
    "\n",
    "dudx_3pt_a = np.zeros(nx)  # 3-point stencil, version a\n",
    "dudx_3pt_b = np.zeros(nx)  # 3-point stencil, version b\n",
    "\n",
    "#FD, 3-point stencil, version a\n",
    "for i in range(0, nx-1):\n",
    "    dudx_3pt_a[i] = (u[i+1] - u[i])/(dx)\n",
    "#Alternatively, the loop could be replaced by the vectorized expression\n",
    "#dudx_3pt_a = np.diff(u)/dx\n",
    "\n",
    "#FD, 3-point stencil, version b\n",
    "for i in range(1, nx-2):\n",
    "    dudx_3pt_b[i] = (u[i+1] - u[i-1])/(2*dx)\n",
    "\n",
    "# analytical solution for du/dx\n",
    "dudx_an = k*np.cos(k*x_vec) \n",
    "\n",
    "#plotting\n",
    "fig = plt.figure(figsize=(12,4))\n",
    "ax1 = fig.add_subplot(1,2,1)\n",
    "ax2 = fig.add_subplot(1,2,2)\n",
    "col = plt.cm.tab10.colors[::2]\n",
    "\n",
    "ax1.plot(x_vec, u, color=3*[0], label='u')\n",
    "ax1.plot(x_vec, dudx_an, '.', color=3*[0], label='dudx_analytic')\n",
    "ax1.plot(x_vec, dudx_3pt_a, '-', color=col[1], label='dudx_3pt_a')\n",
    "ax1.plot(x_vec, dudx_3pt_b, '-', color=col[2], label='dudx_3pt_b')\n",
    "ax1.set_xlabel('x (m)')\n",
    "ax1.set_ylabel('u ()')\n",
    "ax1.legend()\n",
    "\n",
    "ax2.plot(x_vec, (1/k)*(dudx_3pt_a - dudx_an), color=col[1], label='dudx_3pt_a')\n",
    "ax2.plot(x_vec, (1/k)*(dudx_3pt_b - dudx_an), color=col[2], label='dudx_3pt_b')\n",
    "ax2.set_ylim([-0.04, 0.04])\n",
    "ax2.set_xlabel('x (m)')\n",
    "ax2.set_ylabel('deviation (%)')\n",
    "ax2.legend()"
   ]
  },
  {
   "cell_type": "markdown",
   "metadata": {},
   "source": [
    "_____________________________________________________\n",
    "# \"Going beyond vectors\"\n",
    "____________________________________________________"
   ]
  },
  {
   "cell_type": "code",
   "execution_count": 9,
   "metadata": {},
   "outputs": [
    {
     "name": "stdout",
     "output_type": "stream",
     "text": [
      "[[0. 1. 2.]\n",
      " [1. 2. 3.]\n",
      " [2. 3. 4.]]\n"
     ]
    }
   ],
   "source": [
    "def demo_array(dim: tuple, verbose = True):\n",
    "    dim = dim\n",
    "    matrix = np.zeros(dim)\n",
    "\n",
    "    for idcs,_ in np.ndenumerate(matrix):\n",
    "        matrix[idcs] = np.sum(idcs)\n",
    "\n",
    "    if verbose:\n",
    "        print(matrix)\n",
    "        \n",
    "    return matrix\n",
    "\n",
    "a = demo_array((3,3))"
   ]
  },
  {
   "cell_type": "markdown",
   "metadata": {},
   "source": [
    "## Matrix arrays\n",
    "![image info](https://miro.medium.com/v2/resize:fit:1100/format:webp/1*aLMuXA81pDXaw0J0QdKvRQ.png)"
   ]
  },
  {
   "cell_type": "markdown",
   "metadata": {},
   "source": [
    "![image info](https://miro.medium.com/v2/resize:fit:720/format:webp/1*jmXqsVUNaBaUsBAkHgqb3A.png)\n",
    "\n",
    "[sum](https://numpy.org/doc/stable/reference/generated/numpy.sum.html)\n",
    "[median](https://numpy.org/doc/stable/reference/generated/numpy.median.html)\n",
    "[mean](https://numpy.org/doc/stable/reference/generated/numpy.mean.html)"
   ]
  },
  {
   "cell_type": "code",
   "execution_count": 10,
   "metadata": {},
   "outputs": [
    {
     "name": "stdout",
     "output_type": "stream",
     "text": [
      "[[0. 1. 2.]\n",
      " [1. 2. 3.]\n",
      " [2. 3. 4.]]\n"
     ]
    },
    {
     "data": {
      "text/plain": [
       "<function ndarray.sum>"
      ]
     },
     "execution_count": 10,
     "metadata": {},
     "output_type": "execute_result"
    }
   ],
   "source": [
    "a = demo_array((3,3))\n",
    "a.sum"
   ]
  },
  {
   "cell_type": "markdown",
   "metadata": {},
   "source": [
    "__________________________________________________________________\n",
    "## Indexing II\n",
    "![image info](https://miro.medium.com/v2/resize:fit:4800/format:webp/1*brbsl7QFZGWfmvgFHMwt9Q.png)"
   ]
  },
  {
   "cell_type": "code",
   "execution_count": 24,
   "metadata": {},
   "outputs": [
    {
     "name": "stdout",
     "output_type": "stream",
     "text": [
      "[[0. 1. 2. 3.]\n",
      " [1. 2. 3. 4.]\n",
      " [2. 3. 4. 5.]]\n"
     ]
    },
    {
     "data": {
      "text/plain": [
       "array([[0., 1., 2., 3.],\n",
       "       [1., 2., 3., 4.],\n",
       "       [2., 3., 4., 5.]])"
      ]
     },
     "execution_count": 24,
     "metadata": {},
     "output_type": "execute_result"
    }
   ],
   "source": [
    "a = demo_array((3,4))\n",
    "a[:]"
   ]
  },
  {
   "cell_type": "markdown",
   "metadata": {},
   "source": [
    "__________________________________________________________________\n",
    "## Higher-dimensional arrays\n",
    "![image info](https://miro.medium.com/v2/resize:fit:1100/format:webp/1*BAr1RXkpGJD5lcwbTePGLA.png)\n",
    "\n",
    "[ndim](https://numpy.org/doc/stable/reference/generated/numpy.ndim.html)\n",
    "[shape](https://numpy.org/doc/stable/reference/generated/numpy.shape.html)\n",
    "[size](https://numpy.org/doc/stable/reference/generated/numpy.size.html)"
   ]
  },
  {
   "cell_type": "code",
   "execution_count": 12,
   "metadata": {},
   "outputs": [
    {
     "name": "stdout",
     "output_type": "stream",
     "text": [
      "[[[0. 1. 2. 3.]\n",
      "  [1. 2. 3. 4.]]\n",
      "\n",
      " [[1. 2. 3. 4.]\n",
      "  [2. 3. 4. 5.]]\n",
      "\n",
      " [[2. 3. 4. 5.]\n",
      "  [3. 4. 5. 6.]]]\n"
     ]
    },
    {
     "data": {
      "text/plain": [
       "24"
      ]
     },
     "execution_count": 12,
     "metadata": {},
     "output_type": "execute_result"
    }
   ],
   "source": [
    "a = demo_array((3,2,4))\n",
    "a.size"
   ]
  },
  {
   "cell_type": "markdown",
   "metadata": {},
   "source": [
    "__________________________________________________________________\n",
    "__________________________________________________________________\n",
    "__________________________________________________________________\n",
    "## Further array operations\n",
    "\n",
    "![image info](https://miro.medium.com/v2/resize:fit:1100/format:webp/1*bUfuXiTZOas6ZSD_lOSbXA.png)\n",
    "\n",
    "[stack](https://numpy.org/doc/stable/reference/generated/numpy.stack.html)"
   ]
  },
  {
   "attachments": {},
   "cell_type": "markdown",
   "metadata": {},
   "source": [
    "![image info](https://miro.medium.com/v2/resize:fit:1100/format:webp/1*EJiDVb9xb8VL9XmFDevSGg.png)\n",
    "\n",
    "[swapaxes](https://numpy.org/doc/stable/reference/generated/numpy.swapaxes.html)"
   ]
  },
  {
   "cell_type": "code",
   "execution_count": null,
   "metadata": {},
   "outputs": [],
   "source": []
  }
 ],
 "metadata": {
  "kernelspec": {
   "display_name": "py311_pytorch",
   "language": "python",
   "name": "python3"
  },
  "language_info": {
   "codemirror_mode": {
    "name": "ipython",
    "version": 3
   },
   "file_extension": ".py",
   "mimetype": "text/x-python",
   "name": "python",
   "nbconvert_exporter": "python",
   "pygments_lexer": "ipython3",
   "version": "3.11.9"
  }
 },
 "nbformat": 4,
 "nbformat_minor": 2
}
